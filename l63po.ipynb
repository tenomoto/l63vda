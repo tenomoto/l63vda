{
 "cells": [
  {
   "cell_type": "markdown",
   "id": "60389478",
   "metadata": {},
   "source": [
    "# Lorenzモデル\n",
    "\n",
    "l63vdaからコピー。改良オイラーは省略。"
   ]
  },
  {
   "cell_type": "code",
   "execution_count": 1,
   "id": "6bdab8a3",
   "metadata": {},
   "outputs": [],
   "source": [
    "def florenz(w, p, r, b):\n",
    "    x, y, z = w\n",
    "    dw = np.zeros_like(w)\n",
    "    dw[0] =      -p * x + p * y \n",
    "    dw[1] = (r - z) * x -     y \n",
    "    dw[2] =           x * y     - b * z\n",
    "    return dw"
   ]
  },
  {
   "cell_type": "markdown",
   "id": "82b79a81",
   "metadata": {},
   "source": [
    "# 真値の作成\n",
    "\n",
    "観測誤差10%を`e`に入れておく。"
   ]
  },
  {
   "cell_type": "code",
   "execution_count": 2,
   "id": "f640fa4f",
   "metadata": {},
   "outputs": [],
   "source": [
    "p, r, b, dt = 10, 32, 8/3, 0.01\n",
    "nstop = 200\n",
    "obs_int = 60\n",
    "\n",
    "w = np.array([1.0, 3.0, 5.0])\n",
    "e = w * 0.1\n",
    "x_obs = np.zeros([nstop//obs_int, w.size])\n",
    "x_obs[0, :] = w\n",
    "x = np.zeros([nstop+1, w.size])\n",
    "for i in range(1, nstop+1):\n",
    "    w += dt * florenz(w, p, r, b)\n",
    "    x[i, :] = w\n",
    "np.save(\"xt.npy\", x)"
   ]
  },
  {
   "cell_type": "markdown",
   "id": "fe26f830",
   "metadata": {},
   "source": [
    "# アンサンブルフィルタ\n",
    "\n",
    "摂動行列を使わない式通りの素朴な定義。アンサンブルランの関数も定義しておく。"
   ]
  },
  {
   "cell_type": "code",
   "execution_count": 3,
   "id": "7308013e",
   "metadata": {},
   "outputs": [],
   "source": [
    "def po(xf, yo, rmat, hmat):\n",
    "    dx = xf - np.mean(xf, axis=1)[:, None]\n",
    "    pf = dx @ dx.transpose() / (nmem - 1)\n",
    "    ic = hmat @ pf @ hmat.transpose() + rmat\n",
    "    kmat = pf @ hmat.transpose() @ np.linalg.inv(ic)   \n",
    "    xa = xf + kmat @ (yo - hmat @ xf)\n",
    "    return xa\n",
    "\n",
    "def run_ens(xf, p, r, b, nstop):\n",
    "    _, nmem = xf.shape\n",
    "    for i in range(nmem):\n",
    "        w = xf[:, i]\n",
    "        for k in range(nstop):\n",
    "            w += dt * florenz(w, p, r, b)\n",
    "        xf[:, i] = w           \n",
    "    return xf"
   ]
  },
  {
   "cell_type": "markdown",
   "id": "b426f70b",
   "metadata": {},
   "source": [
    "# 同化実験\n",
    "\n",
    "観測演算子は単位行列，観測誤差共分散は対角。"
   ]
  },
  {
   "cell_type": "code",
   "execution_count": 4,
   "id": "f59a4710",
   "metadata": {},
   "outputs": [],
   "source": [
    "nmem = 3\n",
    "xs = 3.0\n",
    "\n",
    "hmat = np.eye(w.size)\n",
    "rmat = np.diag(e**2)\n",
    "\n",
    "xtrue = np.load(\"xt.npy\")\n",
    "w = np.array([1, -3, 5])\n",
    "rng = np.random.default_rng()\n",
    "xf = np.zeros([w.size, nmem])\n",
    "for i in range(w.size):\n",
    "    xf[i, :] = w[i, None] + xs * rng.standard_normal(nmem)\n",
    "np.save(\"xf000.npy\", xf)\n",
    "yo = np.zeros([w.size, nmem])\n",
    "for j in range(nstop//obs_int):\n",
    "    for i in range(w.size):\n",
    "        yo[i, :] = xtrue[obs_int*(j+1), i] + e[i] * rng.standard_normal(nmem)\n",
    "    xf = run_ens(xf, p, r, b, obs_int)\n",
    "    np.save(f\"xf{obs_int*(j+1):03}.npy\", xf)\n",
    "    xa = po(xf, yo, rmat, hmat)\n",
    "    np.save(f\"xa{obs_int*(j+1):03}.npy\", xa)\n",
    "    xf = xa"
   ]
  },
  {
   "cell_type": "markdown",
   "id": "3ab6dc8e",
   "metadata": {},
   "source": [
    "# 結果\n",
    "\n",
    "〇はアンサンブル予報，×は予報アンサンブル平均，赤丸は解析値（解析アンサンブル平均），線は真値"
   ]
  },
  {
   "cell_type": "code",
   "execution_count": 5,
   "id": "8dee51f8",
   "metadata": {},
   "outputs": [
    {
     "data": {
      "image/png": "[encoded data removed]",
      "text/plain": [
       "<Figure size 504x360 with 1 Axes>"
      ]
     },
     "metadata": {
      "needs_background": "light"
     },
     "output_type": "display_data"
    }
   ],
   "source": [
    "import matplotlib.pyplot as plt\n",
    "\n",
    "\n",
    "off = 0, 40, 50\n",
    "\n",
    "x = np.linspace(0, dt*nstop, nstop+1)\n",
    "wtrue = np.copy(xtrue)\n",
    "wtrue[:, 1] += off[1]            \n",
    "wtrue[:, 2] += off[2]\n",
    "fig, ax = plt.subplots(figsize=[7, 5])\n",
    "ax.plot(x, wtrue)\n",
    "xf = np.load(\"xf000.npy\")\n",
    "xf_mean = np.mean(xf, axis=1)\n",
    "ax.set_prop_cycle(None)\n",
    "for i in range(len(off)):\n",
    "    ax.scatter([0]*nmem, xf[i, :] + off[i])\n",
    "for i in range(len(off)):\n",
    "    ax.scatter(0, xf_mean[i] + off[i], c=\"black\", marker=\"x\")\n",
    "for j in range(nstop//obs_int):\n",
    "    ax.set_prop_cycle(None)\n",
    "    xf = np.load(f\"xf{obs_int*(j+1):03}.npy\")\n",
    "    xf_mean = np.mean(xf, axis=1)\n",
    "    xa = np.load(f\"xa{obs_int*(j+1):03}.npy\")\n",
    "    xa_mean = np.mean(xa, axis=1)\n",
    "    t = obs_int*(j+1) * dt\n",
    "    tnmem = [t] * nmem\n",
    "    for i in range(len(off)):\n",
    "        ax.scatter(tnmem, xf[i, :] + off[i])\n",
    "    for i in range(len(off)):\n",
    "        ax.scatter(t, xa_mean[i] + off[i], c=\"red\")\n",
    "    for i in range(len(off)):\n",
    "        ax.scatter(t, xf_mean[i] + off[i], c=\"black\", marker=\"x\")"
   ]
  },
  {
   "cell_type": "code",
   "execution_count": null,
   "id": "34db2db1",
   "metadata": {},
   "outputs": [],
   "source": []
  }
 ],
 "metadata": {
  "kernelspec": {
   "display_name": "Python 3",
   "language": "python",
   "name": "python3"
  },
  "language_info": {
   "codemirror_mode": {
    "name": "ipython",
    "version": 3
   },
   "file_extension": ".py",
   "mimetype": "text/x-python",
   "name": "python",
   "nbconvert_exporter": "python",
   "pygments_lexer": "ipython3",
   "version": "3.9.6"
  }
 },
 "nbformat": 4,
 "nbformat_minor": 5
}
